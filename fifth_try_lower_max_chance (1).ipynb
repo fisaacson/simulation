{
 "cells": [
  {
   "cell_type": "code",
   "execution_count": 10,
   "metadata": {
    "scrolled": true
   },
   "outputs": [],
   "source": [
    "import math\n",
    "import random\n",
    "import os\n",
    "import pandas as pd\n",
    "import numpy as np\n",
    "import csv\n",
    "import matplotlib.pyplot as plt\n",
    "import matplotlib.axes as ax\n",
    "import itertools\n",
    "from sympy import symbols, diff, simplify, sin, cos, log, tan, sqrt, init_printing\n",
    "from mpmath import ln, e"
   ]
  },
  {
   "cell_type": "code",
   "execution_count": 11,
   "metadata": {},
   "outputs": [],
   "source": [
    "name = ('/Users/frankisaacson/Desktop/Research/2018-2019/Data Sources')\n",
    "DATA_PATH = os.path.join(name)\n",
    "#this is the path to data files(On a macbook), enabling them\n",
    "#to be opened later"
   ]
  },
  {
   "cell_type": "code",
   "execution_count": 13,
   "metadata": {
    "scrolled": true
   },
   "outputs": [],
   "source": [
    "with open(DATA_PATH + '/contactdata.dat', 'r') as input_file:\n",
    "    lines = input_file.readlines(500000000,1000000000)\n",
    "    '''\n",
    "This makes the file size significantly smaller that the 1 e 9 bytes of file size previously, in order to maintain\n",
    "speed, several different trials of 1 e 6 bytes will be run\n",
    "'''\n",
    "    contactData = []\n",
    "#at this amount of bytes, roughly main people are simulated\n",
    "#Opening a blank list for the data to be placed\n",
    "for line in lines:\n",
    "    newLine = line.strip().split(' ')\n",
    "#This splits the lines at the spaces and at each line\n",
    "    contactData.append(newLine)\n",
    "with open('contactdata.csv', \"w\") as f:\n",
    "    writer = csv.writer(f)\n",
    "    writer.writerows(contactData)\n",
    "#The first line gives a person's id in the first column\n",
    "#and the number of contacts that person has in the second column.\n",
    "#For each of those contacts, there follows one line \n",
    "#(indented by a tab character) with a person's id, the number\n",
    "#of hours (out of 24) of contact, and the activity type\n",
    "#for the contact. Note that two people may be connected by \n",
    "#more than one edge if they share several activity types"
   ]
  },
  {
   "cell_type": "code",
   "execution_count": 14,
   "metadata": {
    "scrolled": false
   },
   "outputs": [],
   "source": [
    "with open('contactdata.csv', \"r\") as d:\n",
    "    reader = csv.reader(d)\n",
    "    with open('contactdata2.csv', 'w') as csvoutput: \n",
    "        writer = csv.writer(csvoutput)\n",
    "        writer.writerow(['Main Person ID Contacted', 'Main Person # of Contacts', 'Contact Person ID', 'Hours of Contacted', 'Activity Type'])\n",
    "        for row in reader:\n",
    "            if len(row) == 2:\n",
    "                x = int(row[0])\n",
    "                y = int(row[1])\n",
    "            elif len(row) == 3:\n",
    "                writer.writerow([x]+[y]+row)\n",
    "#this associates the main person people come in contact with with those people, adding the main persons id in each row\n"
   ]
  },
  {
   "cell_type": "code",
   "execution_count": 15,
   "metadata": {
    "scrolled": true
   },
   "outputs": [],
   "source": [
    "df = pd.read_csv('contactdata2.csv')"
   ]
  },
  {
   "cell_type": "code",
   "execution_count": 17,
   "metadata": {
    "scrolled": false
   },
   "outputs": [
    {
     "data": {
      "text/html": [
       "<div>\n",
       "<style scoped>\n",
       "    .dataframe tbody tr th:only-of-type {\n",
       "        vertical-align: middle;\n",
       "    }\n",
       "\n",
       "    .dataframe tbody tr th {\n",
       "        vertical-align: top;\n",
       "    }\n",
       "\n",
       "    .dataframe thead th {\n",
       "        text-align: right;\n",
       "    }\n",
       "</style>\n",
       "<table border=\"1\" class=\"dataframe\">\n",
       "  <thead>\n",
       "    <tr style=\"text-align: right;\">\n",
       "      <th></th>\n",
       "      <th>Main Person ID Contacted</th>\n",
       "      <th>Main Person # of Contacts</th>\n",
       "      <th>Contact Person ID</th>\n",
       "      <th>Hours of Contacted</th>\n",
       "      <th>Activity Type</th>\n",
       "    </tr>\n",
       "  </thead>\n",
       "  <tbody>\n",
       "    <tr>\n",
       "      <th>29674098</th>\n",
       "      <td>732271</td>\n",
       "      <td>17</td>\n",
       "      <td>730192</td>\n",
       "      <td>0.083056</td>\n",
       "      <td>4</td>\n",
       "    </tr>\n",
       "    <tr>\n",
       "      <th>29674099</th>\n",
       "      <td>732271</td>\n",
       "      <td>17</td>\n",
       "      <td>731983</td>\n",
       "      <td>0.500000</td>\n",
       "      <td>4</td>\n",
       "    </tr>\n",
       "    <tr>\n",
       "      <th>29674100</th>\n",
       "      <td>732271</td>\n",
       "      <td>17</td>\n",
       "      <td>762315</td>\n",
       "      <td>0.833333</td>\n",
       "      <td>4</td>\n",
       "    </tr>\n",
       "    <tr>\n",
       "      <th>29674101</th>\n",
       "      <td>732271</td>\n",
       "      <td>17</td>\n",
       "      <td>766795</td>\n",
       "      <td>1.066390</td>\n",
       "      <td>4</td>\n",
       "    </tr>\n",
       "    <tr>\n",
       "      <th>29674102</th>\n",
       "      <td>732271</td>\n",
       "      <td>17</td>\n",
       "      <td>805507</td>\n",
       "      <td>0.283333</td>\n",
       "      <td>4</td>\n",
       "    </tr>\n",
       "  </tbody>\n",
       "</table>\n",
       "</div>"
      ],
      "text/plain": [
       "          Main Person ID Contacted  Main Person # of Contacts  \\\n",
       "29674098                    732271                         17   \n",
       "29674099                    732271                         17   \n",
       "29674100                    732271                         17   \n",
       "29674101                    732271                         17   \n",
       "29674102                    732271                         17   \n",
       "\n",
       "          Contact Person ID  Hours of Contacted  Activity Type  \n",
       "29674098             730192            0.083056              4  \n",
       "29674099             731983            0.500000              4  \n",
       "29674100             762315            0.833333              4  \n",
       "29674101             766795            1.066390              4  \n",
       "29674102             805507            0.283333              4  "
      ]
     },
     "execution_count": 17,
     "metadata": {},
     "output_type": "execute_result"
    }
   ],
   "source": [
    "t = df['Hours of Contacted']\n",
    "p = df['Main Person ID Contacted']\n",
    "cp = df['Contact Person ID']\n",
    "at = df['Activity Type']\n",
    "cn = df['Main Person # of Contacts']\n",
    "df.tail()\n"
   ]
  },
  {
   "cell_type": "code",
   "execution_count": 6,
   "metadata": {
    "scrolled": false
   },
   "outputs": [
    {
     "name": "stdout",
     "output_type": "stream",
     "text": [
      "r nought value: 1.490522318068874\n",
      "Patient Zero: 1489169\n",
      "People Infected: 1\n"
     ]
    }
   ],
   "source": [
    "infected_people = []\n",
    "recovering_people = []\n",
    "recovered_date = []\n",
    "recovered_population = []\n",
    "sick_population = []\n",
    "date = []\n",
    "probability = []\n",
    "graph_days = []\n",
    "x = []\n",
    "infected_rows = []\n",
    "def probability_function(r,time):\n",
    "    return (.1/(1+(math.exp((-1/(2*r))*(time-12)))))\n",
    "day = 0\n",
    "r = random.uniform(1.4, 1.6)\n",
    "#this is the R nought value that determines the severity of the outbreak\n",
    "print('r nought value: '+ str(r))\n",
    "rd = p.sample(n = 1)\n",
    "infected_people.append(int(rd))\n",
    "print('Patient Zero: ' + str(int(rd)))\n",
    "print('People Infected: ' + str(len(infected_people)))\n",
    "for i in infected_people:\n",
    "    date.append(day)\n",
    "sick_population.append(len(infected_people))\n",
    "recovered_population.append(len(recovering_people))\n",
    "#this is the first person infected, randomly selected each trial"
   ]
  },
  {
   "cell_type": "code",
   "execution_count": 5,
   "metadata": {
    "scrolled": false
   },
   "outputs": [
    {
     "name": "stdout",
     "output_type": "stream",
     "text": [
      "1\n",
      "67\n",
      "[680401]\n",
      "Influenza A has infected 1 people 1 day after patient zero\n"
     ]
    },
    {
     "data": {
      "image/png": "[encoded data removed]",
      "text/plain": [
       "<matplotlib.figure.Figure at 0xcc6dd68>"
      ]
     },
     "metadata": {},
     "output_type": "display_data"
    }
   ],
   "source": [
    "index = df.index[p == int(rd)]\n",
    "z = 0\n",
    "for i in index:\n",
    "    a = index[z]\n",
    "#through using index, row numbers are assumed for each person the first infected person comes in contact with\n",
    "    b = len(index)\n",
    "    time = t[a]\n",
    "    q = probability_function(r,time)\n",
    "#.99 is the maximum value, the equation in reality looks like this (.99/(1+e^((-1/2r)*time-12)))\n",
    "    probability.append(q)\n",
    "    x.append(time)\n",
    "    my_plot1 = plt.scatter(x, probability)\n",
    "    plt.xlabel('Time (Hours)')\n",
    "    plt.ylabel('Probabilty of Infection')\n",
    "    plt.title('Probability function results given people in Contact for x time')\n",
    "#this equation creates a probability someone will get infected given they came in contact with the original person\n",
    "    ru = random.uniform(0.0000000,1.0000000)\n",
    "#the random.uniform is used to maintain the unpredictable nature of transferring disease\n",
    "    if ru <= q:\n",
    "        if cp[a] in infected_people:\n",
    "            continue\n",
    "        else:\n",
    "            infected_people.append(cp[a])\n",
    "#this uses the random seed to actually make the ultimate decision using probabilities selected earlier\n",
    "    z+=1\n",
    "#the z value makes sure the index is fully iterated through, increasing by one value each loop until there are no more index values\n",
    "print(len(infected_people))\n",
    "print(b)\n",
    "print(infected_people)\n",
    "day = 1\n",
    "for i in infected_people:\n",
    "    date.append(day)\n",
    "print('Influenza A has infected '+ str(len(infected_people))+' people ' + str(day) + ' day after patient zero')\n",
    "sick_population.append(len(infected_people))\n",
    "recovered_population.append(len(recovering_people))\n",
    "#please work\n",
    "plt.show()"
   ]
  },
  {
   "cell_type": "code",
   "execution_count": 6,
   "metadata": {
    "scrolled": true
   },
   "outputs": [
    {
     "name": "stdout",
     "output_type": "stream",
     "text": [
      "Influenza A has infected 1 people 2 days after patient zero\n",
      "--- 0.0620000362396 seconds ---\n",
      "0\n",
      "_______________________________________________________\n",
      "Influenza A has infected 1 people 3 days after patient zero\n",
      "--- 0.0589997768402 seconds ---\n",
      "0\n",
      "_______________________________________________________\n",
      "Influenza A has infected 1 people 4 days after patient zero\n",
      "--- 0.0590000152588 seconds ---\n",
      "0\n",
      "_______________________________________________________\n",
      "Influenza A has infected 1 people 5 days after patient zero\n",
      "--- 0.0679998397827 seconds ---\n",
      "0\n",
      "_______________________________________________________\n",
      "Influenza A has infected 2 people 6 days after patient zero\n",
      "--- 0.066999912262 seconds ---\n",
      "0\n",
      "_______________________________________________________\n",
      "Influenza A has infected 3 people 7 days after patient zero\n",
      "--- 0.116999864578 seconds ---\n",
      "0\n",
      "_______________________________________________________\n",
      "Influenza A has infected 4 people 8 days after patient zero\n",
      "--- 0.178999900818 seconds ---\n",
      "0\n",
      "_______________________________________________________\n",
      "Influenza A has infected 3 people 9 days after patient zero\n",
      "--- 0.234999895096 seconds ---\n",
      "3\n",
      "_______________________________________________________\n",
      "Influenza A has infected 4 people 10 days after patient zero\n",
      "--- 0.183000087738 seconds ---\n",
      "5\n",
      "_______________________________________________________\n",
      "Influenza A has infected 8 people 11 days after patient zero\n",
      "--- 0.253000020981 seconds ---\n",
      "5\n",
      "_______________________________________________________\n",
      "Influenza A has infected 18 people 12 days after patient zero\n",
      "--- 0.513000011444 seconds ---\n",
      "7\n",
      "_______________________________________________________\n",
      "Influenza A has infected 26 people 13 days after patient zero\n",
      "--- 1.1289999485 seconds ---\n",
      "8\n",
      "_______________________________________________________\n",
      "Influenza A has infected 35 people 14 days after patient zero\n",
      "--- 1.52300000191 seconds ---\n",
      "13\n",
      "_______________________________________________________\n",
      "Influenza A has infected 53 people 15 days after patient zero\n",
      "--- 2.15199995041 seconds ---\n",
      "21\n",
      "_______________________________________________________\n",
      "Influenza A has infected 79 people 16 days after patient zero\n",
      "--- 3.20499992371 seconds ---\n",
      "27\n",
      "_______________________________________________________\n",
      "Influenza A has infected 127 people 17 days after patient zero\n",
      "--- 4.61500000954 seconds ---\n",
      "35\n",
      "_______________________________________________________\n",
      "Influenza A has infected 178 people 18 days after patient zero\n",
      "--- 7.31999993324 seconds ---\n",
      "55\n",
      "_______________________________________________________\n",
      "Influenza A has infected 284 people 19 days after patient zero\n",
      "--- 10.5439999104 seconds ---\n",
      "82\n",
      "_______________________________________________________\n",
      "Influenza A has infected 445 people 20 days after patient zero\n",
      "--- 17.0190000534 seconds ---\n",
      "122\n",
      "_______________________________________________________\n",
      "Influenza A has infected 689 people 21 days after patient zero\n",
      "--- 26.1380000114 seconds ---\n",
      "183\n",
      "_______________________________________________________\n",
      "Influenza A has infected 1028 people 22 days after patient zero\n",
      "--- 38.7799999714 seconds ---\n",
      "268\n",
      "_______________________________________________________\n",
      "Influenza A has infected 1551 people 23 days after patient zero\n",
      "--- 57.6760001183 seconds ---\n",
      "403\n",
      "_______________________________________________________\n",
      "Influenza A has infected 2275 people 24 days after patient zero\n",
      "--- 87.1539998055 seconds ---\n",
      "601\n",
      "_______________________________________________________\n",
      "Influenza A has infected 3333 people 25 days after patient zero\n",
      "--- 128.140000105 seconds ---\n",
      "912\n",
      "_______________________________________________________\n",
      "Influenza A has infected 4949 people 26 days after patient zero\n",
      "--- 187.479000092 seconds ---\n",
      "1397\n",
      "_______________________________________________________\n",
      "Influenza A has infected 7200 people 27 days after patient zero\n",
      "--- 278.619999886 seconds ---\n",
      "2147\n",
      "_______________________________________________________\n",
      "Influenza A has infected 10691 people 28 days after patient zero\n",
      "--- 413.224999905 seconds ---\n",
      "3260\n",
      "_______________________________________________________\n",
      "Influenza A has infected 15894 people 29 days after patient zero\n",
      "--- 604.174999952 seconds ---\n",
      "4946\n",
      "_______________________________________________________\n",
      "Influenza A has infected 23625 people 30 days after patient zero\n",
      "--- 901.169000149 seconds ---\n",
      "7419\n",
      "_______________________________________________________\n",
      "Influenza A has infected 35204 people 31 days after patient zero\n",
      "--- 1342.18799996 seconds ---\n",
      "11063\n",
      "_______________________________________________________\n",
      "Influenza A has infected 52139 people 32 days after patient zero\n",
      "--- 2004.27699995 seconds ---\n",
      "16497\n",
      "_______________________________________________________\n",
      "Influenza A has infected 76612 people 33 days after patient zero\n",
      "--- 3056.16300011 seconds ---\n",
      "24447\n",
      "_______________________________________________________\n",
      "Influenza A has infected 110230 people 34 days after patient zero\n",
      "--- 4450.15199995 seconds ---\n",
      "36251\n",
      "_______________________________________________________\n",
      "Influenza A has infected 155046 people 35 days after patient zero\n",
      "--- 6452.36899996 seconds ---\n",
      "53831\n",
      "_______________________________________________________\n",
      "Influenza A has infected 211137 people 36 days after patient zero\n",
      "--- 9028.25699997 seconds ---\n",
      "79929\n",
      "_______________________________________________________\n",
      "Influenza A has infected 275711 people 37 days after patient zero\n",
      "--- 12355.849 seconds ---\n",
      "118777\n",
      "_______________________________________________________\n",
      "Influenza A has infected 339837 people 38 days after patient zero\n",
      "--- 16592.3200002 seconds ---\n",
      "176350\n",
      "_______________________________________________________\n",
      "Influenza A has infected 388060 people 39 days after patient zero\n",
      "--- 21144.8889999 seconds ---\n",
      "260912\n",
      "_______________________________________________________\n",
      "Influenza A has infected 424265 people 40 days after patient zero\n",
      "--- 26091.221 seconds ---\n",
      "357554\n",
      "_______________________________________________________\n",
      "Influenza A has infected 428492 people 41 days after patient zero\n",
      "--- 29007.128 seconds ---\n",
      "476246\n",
      "_______________________________________________________\n",
      "Influenza A has infected 389054 people 42 days after patient zero\n",
      "--- 30808.944 seconds ---\n",
      "622509\n",
      "_______________________________________________________\n",
      "Influenza A has infected 294533 people 43 days after patient zero\n",
      "--- 31150.2619998 seconds ---\n",
      "804580\n",
      "_______________________________________________________\n",
      "Influenza A has infected 215461 people 44 days after patient zero\n",
      "--- 26075.168 seconds ---\n",
      "951959\n",
      "_______________________________________________________\n",
      "Influenza A has infected 108346 people 45 days after patient zero\n",
      "--- 22172.881 seconds ---\n",
      "1111464\n",
      "_______________________________________________________\n",
      "Influenza A has infected 67081 people 46 days after patient zero\n",
      "--- 16696.4959998 seconds ---\n",
      "1192677\n",
      "_______________________________________________________\n",
      "Influenza A has infected 30515 people 47 days after patient zero\n",
      "--- 14903.9000001 seconds ---\n",
      "1259758\n",
      "_______________________________________________________\n",
      "Influenza A has infected 23249 people 48 days after patient zero\n",
      "--- 12798.4779999 seconds ---\n",
      "1290273\n",
      "_______________________________________________________\n",
      "Influenza A has infected 18984 people 49 days after patient zero\n",
      "--- 12338.5 seconds ---\n",
      "1313522\n",
      "_______________________________________________________\n",
      "Influenza A has infected 15297 people 50 days after patient zero\n",
      "--- 12116.9590001 seconds ---\n",
      "1332506\n",
      "_______________________________________________________\n",
      "Influenza A has infected 13065 people 51 days after patient zero\n",
      "--- 11937.28 seconds ---\n",
      "1347803\n",
      "_______________________________________________________\n",
      "Influenza A has infected 11144 people 52 days after patient zero\n",
      "--- 11846.7650001 seconds ---\n",
      "1360868\n",
      "_______________________________________________________\n",
      "Influenza A has infected 9532 people 53 days after patient zero\n",
      "--- 11743.8770001 seconds ---\n",
      "1372012\n",
      "_______________________________________________________\n",
      "Influenza A has infected 8467 people 54 days after patient zero\n",
      "--- 11657.638 seconds ---\n",
      "1381544\n",
      "_______________________________________________________\n",
      "Influenza A has infected 7437 people 55 days after patient zero\n",
      "--- 11597.4820001 seconds ---\n",
      "1390011\n",
      "_______________________________________________________\n"
     ]
    },
    {
     "name": "stdout",
     "output_type": "stream",
     "text": [
      "Influenza A has infected 6592 people 56 days after patient zero\n",
      "--- 11548.316 seconds ---\n",
      "1397448\n",
      "_______________________________________________________\n",
      "Influenza A has infected 6025 people 57 days after patient zero\n",
      "--- 11408.513 seconds ---\n",
      "1404040\n",
      "_______________________________________________________\n",
      "Influenza A has infected 5475 people 58 days after patient zero\n",
      "--- 11376.553 seconds ---\n",
      "1410065\n",
      "_______________________________________________________\n",
      "Influenza A has infected 4952 people 59 days after patient zero\n",
      "--- 11507.4289999 seconds ---\n",
      "1415540\n",
      "_______________________________________________________\n",
      "Influenza A has infected 4498 people 60 days after patient zero\n",
      "--- 11472.6200001 seconds ---\n",
      "1420492\n",
      "_______________________________________________________\n",
      "Influenza A has infected 4074 people 61 days after patient zero\n",
      "--- 11449.7749999 seconds ---\n",
      "1424990\n",
      "_______________________________________________________\n",
      "Influenza A has infected 3788 people 62 days after patient zero\n",
      "--- 11442.4069998 seconds ---\n",
      "1429064\n",
      "_______________________________________________________\n",
      "Influenza A has infected 3600 people 63 days after patient zero\n",
      "--- 11424.3730001 seconds ---\n",
      "1432852\n",
      "_______________________________________________________\n",
      "Influenza A has infected 3269 people 64 days after patient zero\n",
      "--- 11300.691 seconds ---\n",
      "1436452\n",
      "_______________________________________________________\n",
      "Influenza A has infected 3035 people 65 days after patient zero\n",
      "--- 11412.092 seconds ---\n",
      "1439721\n",
      "_______________________________________________________\n",
      "Influenza A has infected 2890 people 66 days after patient zero\n",
      "--- 11260.7420001 seconds ---\n",
      "1442756\n",
      "_______________________________________________________\n",
      "Influenza A has infected 2652 people 67 days after patient zero\n",
      "--- 11261.543 seconds ---\n",
      "1445646\n",
      "_______________________________________________________\n",
      "Influenza A has infected 2576 people 68 days after patient zero\n",
      "--- 11281.171 seconds ---\n",
      "1448298\n",
      "_______________________________________________________\n",
      "Influenza A has infected 2371 people 69 days after patient zero\n",
      "--- 11264.056 seconds ---\n",
      "1450874\n",
      "_______________________________________________________\n",
      "Influenza A has infected 2343 people 70 days after patient zero\n",
      "--- 11257.4660001 seconds ---\n",
      "1453245\n",
      "_______________________________________________________\n",
      "Influenza A has infected 2099 people 71 days after patient zero\n",
      "--- 11311.1070001 seconds ---\n",
      "1455588\n",
      "_______________________________________________________\n",
      "Influenza A has infected 1947 people 72 days after patient zero\n",
      "--- 11384.802 seconds ---\n",
      "1457687\n",
      "_______________________________________________________\n",
      "Influenza A has infected 1900 people 73 days after patient zero\n",
      "--- 11412.204 seconds ---\n",
      "1459634\n",
      "_______________________________________________________\n",
      "Influenza A has infected 1769 people 74 days after patient zero\n",
      "--- 11391.553 seconds ---\n",
      "1461534\n",
      "_______________________________________________________\n",
      "Influenza A has infected 1735 people 75 days after patient zero\n",
      "--- 11369.1990001 seconds ---\n",
      "1463303\n",
      "_______________________________________________________\n"
     ]
    },
    {
     "ename": "KeyboardInterrupt",
     "evalue": "",
     "output_type": "error",
     "traceback": [
      "\u001b[1;31m\u001b[0m",
      "\u001b[1;31mKeyboardInterrupt\u001b[0mTraceback (most recent call last)",
      "\u001b[1;32m<ipython-input-6-1260f4ab33b1>\u001b[0m in \u001b[0;36m<module>\u001b[1;34m()\u001b[0m\n\u001b[0;32m     36\u001b[0m         \u001b[0md\u001b[0m \u001b[1;33m=\u001b[0m \u001b[0mindex_list\u001b[0m\u001b[1;33m[\u001b[0m\u001b[0mcount1\u001b[0m\u001b[1;33m]\u001b[0m\u001b[1;33m\u001b[0m\u001b[0m\n\u001b[0;32m     37\u001b[0m \u001b[1;31m#d is storing the value of index1 at count1\u001b[0m\u001b[1;33m\u001b[0m\u001b[1;33m\u001b[0m\u001b[0m\n\u001b[1;32m---> 38\u001b[1;33m         \u001b[0mtime1\u001b[0m \u001b[1;33m=\u001b[0m \u001b[0mt\u001b[0m\u001b[1;33m[\u001b[0m\u001b[0md\u001b[0m\u001b[1;33m]\u001b[0m\u001b[1;33m\u001b[0m\u001b[0m\n\u001b[0m\u001b[0;32m     39\u001b[0m         \u001b[0mcount1\u001b[0m\u001b[1;33m+=\u001b[0m\u001b[1;36m1\u001b[0m\u001b[1;33m\u001b[0m\u001b[0m\n\u001b[0;32m     40\u001b[0m \u001b[1;31m#the row values obtained within index one are accessed for the time value in that row, for use in my equation\u001b[0m\u001b[1;33m\u001b[0m\u001b[1;33m\u001b[0m\u001b[0m\n",
      "\u001b[1;32mC:\\ProgramData\\Anaconda2\\lib\\site-packages\\pandas\\core\\series.py\u001b[0m in \u001b[0;36m__getitem__\u001b[1;34m(self, key)\u001b[0m\n\u001b[0;32m    599\u001b[0m         \u001b[0mkey\u001b[0m \u001b[1;33m=\u001b[0m \u001b[0mcom\u001b[0m\u001b[1;33m.\u001b[0m\u001b[0m_apply_if_callable\u001b[0m\u001b[1;33m(\u001b[0m\u001b[0mkey\u001b[0m\u001b[1;33m,\u001b[0m \u001b[0mself\u001b[0m\u001b[1;33m)\u001b[0m\u001b[1;33m\u001b[0m\u001b[0m\n\u001b[0;32m    600\u001b[0m         \u001b[1;32mtry\u001b[0m\u001b[1;33m:\u001b[0m\u001b[1;33m\u001b[0m\u001b[0m\n\u001b[1;32m--> 601\u001b[1;33m             \u001b[0mresult\u001b[0m \u001b[1;33m=\u001b[0m \u001b[0mself\u001b[0m\u001b[1;33m.\u001b[0m\u001b[0mindex\u001b[0m\u001b[1;33m.\u001b[0m\u001b[0mget_value\u001b[0m\u001b[1;33m(\u001b[0m\u001b[0mself\u001b[0m\u001b[1;33m,\u001b[0m \u001b[0mkey\u001b[0m\u001b[1;33m)\u001b[0m\u001b[1;33m\u001b[0m\u001b[0m\n\u001b[0m\u001b[0;32m    602\u001b[0m \u001b[1;33m\u001b[0m\u001b[0m\n\u001b[0;32m    603\u001b[0m             \u001b[1;32mif\u001b[0m \u001b[1;32mnot\u001b[0m \u001b[0mis_scalar\u001b[0m\u001b[1;33m(\u001b[0m\u001b[0mresult\u001b[0m\u001b[1;33m)\u001b[0m\u001b[1;33m:\u001b[0m\u001b[1;33m\u001b[0m\u001b[0m\n",
      "\u001b[1;32mC:\\ProgramData\\Anaconda2\\lib\\site-packages\\pandas\\core\\indexes\\base.py\u001b[0m in \u001b[0;36mget_value\u001b[1;34m(self, series, key)\u001b[0m\n\u001b[0;32m   2470\u001b[0m \u001b[1;33m\u001b[0m\u001b[0m\n\u001b[0;32m   2471\u001b[0m         \u001b[0ms\u001b[0m \u001b[1;33m=\u001b[0m \u001b[0m_values_from_object\u001b[0m\u001b[1;33m(\u001b[0m\u001b[0mseries\u001b[0m\u001b[1;33m)\u001b[0m\u001b[1;33m\u001b[0m\u001b[0m\n\u001b[1;32m-> 2472\u001b[1;33m         \u001b[0mk\u001b[0m \u001b[1;33m=\u001b[0m \u001b[0m_values_from_object\u001b[0m\u001b[1;33m(\u001b[0m\u001b[0mkey\u001b[0m\u001b[1;33m)\u001b[0m\u001b[1;33m\u001b[0m\u001b[0m\n\u001b[0m\u001b[0;32m   2473\u001b[0m \u001b[1;33m\u001b[0m\u001b[0m\n\u001b[0;32m   2474\u001b[0m         \u001b[0mk\u001b[0m \u001b[1;33m=\u001b[0m \u001b[0mself\u001b[0m\u001b[1;33m.\u001b[0m\u001b[0m_convert_scalar_indexer\u001b[0m\u001b[1;33m(\u001b[0m\u001b[0mk\u001b[0m\u001b[1;33m,\u001b[0m \u001b[0mkind\u001b[0m\u001b[1;33m=\u001b[0m\u001b[1;34m'getitem'\u001b[0m\u001b[1;33m)\u001b[0m\u001b[1;33m\u001b[0m\u001b[0m\n",
      "\u001b[1;31mKeyboardInterrupt\u001b[0m: "
     ]
    }
   ],
   "source": [
    "import time\n",
    "total_start_time = time.time()\n",
    "while len(infected_people) != 0:\n",
    "    dfp = pd.DataFrame({'Infected people': infected_people})\n",
    "    d = pd.DataFrame({'Date of Infection':date})\n",
    "    start_time = time.time()\n",
    "    count = 0\n",
    "    length = len(dfp)\n",
    "    count2 = 0\n",
    "    for row in dfp.iterrows():\n",
    "        g = day-date[count2]\n",
    "        e = random.randint(5,8)\n",
    "        if g > e:\n",
    "            recovering_people.append(infected_people[count2])\n",
    "            recovered_date.append(day)\n",
    "            del infected_people[count2]\n",
    "            del date[count2]\n",
    "        row = int(dfp.loc[count])\n",
    "#dfp is the infected people dataframe, this is placing their values at different count values into a variable\n",
    "        index1 = df.index[p == row]\n",
    "#this is my attempt to find the rows of the infected people in the original contact data\n",
    "        k = index1.tolist()\n",
    "#this changes the index into a list that can be \n",
    "        infected_rows.append(k)\n",
    "        c = len(index1)\n",
    "        count+=1\n",
    "        if len(date) == len(infected_people):\n",
    "            count2+=1\n",
    "        else:\n",
    "            date.append(day)\n",
    "    index_list = list(itertools.chain.from_iterable(infected_rows))\n",
    "#this is a list of all the row numbers of the infected people\n",
    "    count1 = 0\n",
    "    for i in index_list:\n",
    "#this was utilized because several empty indexes appeared from the index1 variable\n",
    "        d = index_list[count1]\n",
    "#d is storing the value of index1 at count1\n",
    "        time1 = t[d]\n",
    "        count1+=1\n",
    "#the row values obtained within index one are accessed for the time value in that row, for use in my equation\n",
    "        q = probability_function(r,time1)\n",
    "        ru = random.uniform(0,1)\n",
    "#ru creates a value for which will be used to utilize th previous probability while maintaining the inherent randomness\n",
    "        if ru <= q:\n",
    "#this executes the ru value and probability\n",
    "            if cp[d] in infected_people:\n",
    "                continue\n",
    "            elif cp[d] in recovering_people:\n",
    "                continue\n",
    "            else:\n",
    "                infected_people.append(cp[d])\n",
    "                date.append(day)\n",
    "#cp[d] is a dataframe consisting of a portion of the contactdata, specifically the people the \"main people\" came in\n",
    "#contact with, and infecting them if the probability allows\n",
    "    sick_pop = len(infected_people)\n",
    "    recovered_population.append(len(recovering_people))\n",
    "    graph_days.append(day-1)\n",
    "    day +=1\n",
    "    sick_population.append(sick_pop)\n",
    "    print('Influenza A has infected '+ str(len(infected_people))+' people '+ str(day) + ' days after patient zero')\n",
    "    print(\"--- %s seconds ---\" % (time.time() - start_time))\n",
    "    print(len(recovering_people))\n",
    "    print('_______________________________________________________')\n",
    "\n"
   ]
  },
  {
   "cell_type": "code",
   "execution_count": 9,
   "metadata": {},
   "outputs": [
    {
     "data": {
      "text/plain": [
       "Text(0.5, 1.0, 'Probability Function Results as Time of Contact Increases')"
      ]
     },
     "execution_count": 9,
     "metadata": {},
     "output_type": "execute_result"
    },
    {
     "data": {
      "image/png": "[encoded data removed]",
      "text/plain": [
       "<Figure size 432x288 with 1 Axes>"
      ]
     },
     "metadata": {
      "needs_background": "light"
     },
     "output_type": "display_data"
    }
   ],
   "source": [
    "def old_prob(r,time):\n",
    "    return (.685/(1+(math.exp((-1/(2*r))*(time-12)))))\n",
    "graph = []\n",
    "graph2 = []\n",
    "hours = []\n",
    "hour = 0\n",
    "for time in range(0,24):\n",
    "    rt = (probability_function(r,time))*100\n",
    "    rg = (old_prob(r,time))*100\n",
    "    graph2.append(rg)\n",
    "    graph.append(rt)\n",
    "    hours.append(hour)\n",
    "    hour+=1\n",
    "plot2 = plt.plot(hours, graph2, linestyle = '-', color = 'blue', label = '68.5% max chance')\n",
    "my_plot1 = plt.plot(hours, graph, linestyle = '-', color = 'red', label = '10% max chance')\n",
    "\n",
    "legend = plt.legend(loc = 'best')\n",
    "x_axis = plt.xlabel('Time (Hours)')\n",
    "y_axis = plt.ylabel('Probability of Infection (%)')\n",
    "plt.title('Probability Function Results as Time of Contact Increases')"
   ]
  },
  {
   "cell_type": "code",
   "execution_count": 10,
   "metadata": {
    "scrolled": false
   },
   "outputs": [
    {
     "name": "stdout",
     "output_type": "stream",
     "text": [
      "293 people infected\n",
      "75 days after patient zero\n",
      "[1, 1, 1, 1, 1, 1, 2, 3, 4, 3, 4, 8, 18, 26, 35, 53, 79, 127, 178, 284, 445, 689, 1028, 1551, 2275, 3333, 4949, 7200, 10691, 15894, 23625, 35204, 52139, 76612, 110230, 155046, 211137, 275711, 339837, 388060, 424265, 428492, 389054, 294533, 215461, 108346, 67081, 30515, 23249, 18984, 15297, 13065, 11144, 9532, 8467, 7437, 6592, 6025, 5475, 4952, 4498, 4074, 3788, 3600, 3269, 3035, 2890, 2652, 2576, 2371, 2343, 2099, 1947, 1900, 1769, 1735]\n",
      "76\n"
     ]
    },
    {
     "data": {
      "image/png": "[encoded data removed]",
      "text/plain": [
       "<matplotlib.figure.Figure at 0x222b932e8>"
      ]
     },
     "metadata": {},
     "output_type": "display_data"
    },
    {
     "name": "stdout",
     "output_type": "stream",
     "text": [
      "False\n"
     ]
    }
   ],
   "source": [
    "print(str(len(infected_people)) + ' people infected')\n",
    "print(str(day) + ' days after patient zero')\n",
    "print(sick_population)\n",
    "print(len(recovered_population))\n",
    "h = 0\n",
    "h_list = []\n",
    "for i in range(0,day+1):\n",
    "    h_list.append(h)\n",
    "    h+=1\n",
    "my_plot2 = plt.plot(h_list, sick_population, linestyle = '-', color = 'red')\n",
    "my_plot3 = plt.plot(h_list, recovered_population, linestyle = '-', color = 'blue')\n",
    "x_axis = plt.xlabel('Time (Days)')\n",
    "y_axis = plt.ylabel('Amount of people Infected')\n",
    "plt.title('.1% Max Probability of Infection Simulation')\n",
    "plt.show()\n",
    "print(False)\n",
    "#Thomas is 678923\n",
    "#Justin is 5\n",
    "#Quinten is 1738\n",
    "#Dylan is 169"
   ]
  },
  {
   "cell_type": "code",
   "execution_count": 1,
   "metadata": {
    "scrolled": true
   },
   "outputs": [
    {
     "ename": "NameError",
     "evalue": "name 'sick_population' is not defined",
     "output_type": "error",
     "traceback": [
      "\u001b[0;31m---------------------------------------------------------------------------\u001b[0m",
      "\u001b[0;31mNameError\u001b[0m                                 Traceback (most recent call last)",
      "\u001b[0;32m<ipython-input-1-f01ebaba46fa>\u001b[0m in \u001b[0;36m<module>\u001b[0;34m\u001b[0m\n\u001b[1;32m      5\u001b[0m \u001b[0mg\u001b[0m \u001b[0;34m=\u001b[0m \u001b[0;36m0\u001b[0m\u001b[0;34m\u001b[0m\u001b[0;34m\u001b[0m\u001b[0m\n\u001b[1;32m      6\u001b[0m \u001b[0;32mfor\u001b[0m \u001b[0mi\u001b[0m \u001b[0;32min\u001b[0m \u001b[0mrange\u001b[0m\u001b[0;34m(\u001b[0m\u001b[0;36m0\u001b[0m\u001b[0;34m,\u001b[0m\u001b[0;36m22\u001b[0m\u001b[0;34m)\u001b[0m\u001b[0;34m:\u001b[0m\u001b[0;34m\u001b[0m\u001b[0;34m\u001b[0m\u001b[0m\n\u001b[0;32m----> 7\u001b[0;31m     \u001b[0mderivative\u001b[0m\u001b[0;34m.\u001b[0m\u001b[0mappend\u001b[0m\u001b[0;34m(\u001b[0m\u001b[0mslope\u001b[0m\u001b[0;34m(\u001b[0m\u001b[0mg\u001b[0m\u001b[0;34m)\u001b[0m\u001b[0;34m)\u001b[0m\u001b[0;34m\u001b[0m\u001b[0;34m\u001b[0m\u001b[0m\n\u001b[0m\u001b[1;32m      8\u001b[0m     \u001b[0mh_list\u001b[0m\u001b[0;34m.\u001b[0m\u001b[0mappend\u001b[0m\u001b[0;34m(\u001b[0m\u001b[0mh\u001b[0m\u001b[0;34m)\u001b[0m\u001b[0;34m\u001b[0m\u001b[0;34m\u001b[0m\u001b[0m\n\u001b[1;32m      9\u001b[0m     \u001b[0mh\u001b[0m\u001b[0;34m+=\u001b[0m\u001b[0;36m1\u001b[0m\u001b[0;34m\u001b[0m\u001b[0;34m\u001b[0m\u001b[0m\n",
      "\u001b[0;32m<ipython-input-1-f01ebaba46fa>\u001b[0m in \u001b[0;36mslope\u001b[0;34m(x)\u001b[0m\n\u001b[1;32m      1\u001b[0m \u001b[0;32mdef\u001b[0m \u001b[0mslope\u001b[0m\u001b[0;34m(\u001b[0m\u001b[0mx\u001b[0m\u001b[0;34m)\u001b[0m\u001b[0;34m:\u001b[0m\u001b[0;34m\u001b[0m\u001b[0;34m\u001b[0m\u001b[0m\n\u001b[0;32m----> 2\u001b[0;31m     \u001b[0;32mreturn\u001b[0m \u001b[0;34m(\u001b[0m\u001b[0msick_population\u001b[0m\u001b[0;34m[\u001b[0m\u001b[0mx\u001b[0m\u001b[0;34m]\u001b[0m\u001b[0;34m-\u001b[0m\u001b[0msick_population\u001b[0m\u001b[0;34m[\u001b[0m\u001b[0mx\u001b[0m\u001b[0;34m+\u001b[0m\u001b[0;36m1\u001b[0m\u001b[0;34m]\u001b[0m\u001b[0;34m)\u001b[0m\u001b[0;34m/\u001b[0m\u001b[0;34m(\u001b[0m\u001b[0mdate\u001b[0m\u001b[0;34m[\u001b[0m\u001b[0mx\u001b[0m\u001b[0;34m]\u001b[0m\u001b[0;34m-\u001b[0m\u001b[0mdate\u001b[0m\u001b[0;34m[\u001b[0m\u001b[0mx\u001b[0m\u001b[0;34m+\u001b[0m\u001b[0;36m1\u001b[0m\u001b[0;34m]\u001b[0m\u001b[0;34m)\u001b[0m\u001b[0;34m\u001b[0m\u001b[0;34m\u001b[0m\u001b[0m\n\u001b[0m\u001b[1;32m      3\u001b[0m \u001b[0mderivative\u001b[0m \u001b[0;34m=\u001b[0m \u001b[0;34m[\u001b[0m\u001b[0;34m]\u001b[0m\u001b[0;34m\u001b[0m\u001b[0;34m\u001b[0m\u001b[0m\n\u001b[1;32m      4\u001b[0m \u001b[0mh\u001b[0m \u001b[0;34m=\u001b[0m \u001b[0;36m0\u001b[0m\u001b[0;34m\u001b[0m\u001b[0;34m\u001b[0m\u001b[0m\n\u001b[1;32m      5\u001b[0m \u001b[0mg\u001b[0m \u001b[0;34m=\u001b[0m \u001b[0;36m0\u001b[0m\u001b[0;34m\u001b[0m\u001b[0;34m\u001b[0m\u001b[0m\n",
      "\u001b[0;31mNameError\u001b[0m: name 'sick_population' is not defined"
     ]
    }
   ],
   "source": [
    "def slope(x):\n",
    "    return (sick_population[x]-sick_population[x+1])/(date[x]-date[x+1])\n",
    "derivative = []\n",
    "h = 0\n",
    "g = 0\n",
    "for i in range(0,22):\n",
    "    derivative.append(slope(g))\n",
    "    h_list.append(h)\n",
    "    h+=1\n",
    "    g+=1\n",
    "myplot = plt.plot(h_list, derivative, linestyle = '-', color = 'red')\n",
    "plt.fill_between(h_list, derivative, color = 'lightcoral')\n",
    "x_axis = plt.xlabel('Time (days)')\n",
    "y_axis = plt.ylabel('Rate of Infection A')\n",
    "plt.title('Portland Epidemic Rate of Infection Through '+str(day)+' Days')\n",
    "plt.show()"
   ]
  },
  {
   "cell_type": "code",
   "execution_count": 28,
   "metadata": {},
   "outputs": [
    {
     "name": "stderr",
     "output_type": "stream",
     "text": [
      "/anaconda3/lib/python3.7/site-packages/scipy/stats/stats.py:1713: FutureWarning: Using a non-tuple sequence for multidimensional indexing is deprecated; use `arr[tuple(seq)]` instead of `arr[seq]`. In the future this will be interpreted as an array index, `arr[np.array(seq)]`, which will result either in an error or a different result.\n",
      "  return np.add.reduce(sorted[indexer] * weights, axis=axis) / sumval\n"
     ]
    },
    {
     "data": {
      "text/plain": [
       "<matplotlib.axes._subplots.AxesSubplot at 0x1a20647c18>"
      ]
     },
     "execution_count": 28,
     "metadata": {},
     "output_type": "execute_result"
    },
    {
     "data": {
      "image/png": "[encoded data removed]",
      "text/plain": [
       "<Figure size 432x288 with 1 Axes>"
      ]
     },
     "metadata": {},
     "output_type": "display_data"
    }
   ],
   "source": [
    "import seaborn as sns\n",
    "from scipy import stats\n",
    "sns.set_style('whitegrid')\n",
    "sns.distplot(np.array(at))\n",
    "#x axis represents activity type\n",
    "#y axis doesnt represent anything other than relative value"
   ]
  },
  {
   "cell_type": "code",
   "execution_count": 29,
   "metadata": {},
   "outputs": [
    {
     "name": "stderr",
     "output_type": "stream",
     "text": [
      "/anaconda3/lib/python3.7/site-packages/scipy/stats/stats.py:1713: FutureWarning: Using a non-tuple sequence for multidimensional indexing is deprecated; use `arr[tuple(seq)]` instead of `arr[seq]`. In the future this will be interpreted as an array index, `arr[np.array(seq)]`, which will result either in an error or a different result.\n",
      "  return np.add.reduce(sorted[indexer] * weights, axis=axis) / sumval\n"
     ]
    },
    {
     "data": {
      "text/plain": [
       "<matplotlib.axes._subplots.AxesSubplot at 0x1a23dee780>"
      ]
     },
     "execution_count": 29,
     "metadata": {},
     "output_type": "execute_result"
    },
    {
     "data": {
      "image/png": "[encoded data removed]",
      "text/plain": [
       "<Figure size 432x288 with 1 Axes>"
      ]
     },
     "metadata": {},
     "output_type": "display_data"
    }
   ],
   "source": [
    "sns.set_style('whitegrid')\n",
    "sns.distplot(np.array(cn), fit = stats.laplace, kde = False)\n",
    "#x axis represents the number of contacts for a given person in the population\n",
    "#y axis doesnt represent anything yet"
   ]
  },
  {
   "cell_type": "code",
   "execution_count": 174,
   "metadata": {},
   "outputs": [
    {
     "name": "stdout",
     "output_type": "stream",
     "text": [
      "63\n",
      "64\n"
     ]
    }
   ],
   "source": [
    "print(len(date))\n",
    "print(len(dfp))"
   ]
  }
 ],
 "metadata": {
  "kernelspec": {
   "display_name": "Python 3",
   "language": "python",
   "name": "python3"
  },
  "language_info": {
   "codemirror_mode": {
    "name": "ipython",
    "version": 3
   },
   "file_extension": ".py",
   "mimetype": "text/x-python",
   "name": "python",
   "nbconvert_exporter": "python",
   "pygments_lexer": "ipython3",
   "version": "3.6.8"
  }
 },
 "nbformat": 4,
 "nbformat_minor": 2
}
